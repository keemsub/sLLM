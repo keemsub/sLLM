{
 "cells": [
  {
   "cell_type": "code",
   "execution_count": 1,
   "metadata": {},
   "outputs": [
    {
     "data": {
      "text/plain": [
       "True"
      ]
     },
     "execution_count": 1,
     "metadata": {},
     "output_type": "execute_result"
    }
   ],
   "source": [
    "# API KEY를 환경변수로 관리하기 위한 설정 파일\n",
    "# 설치: pip install python-dotenv\n",
    "from dotenv import load_dotenv\n",
    "\n",
    "# API KEY 정보로드\n",
    "load_dotenv()"
   ]
  },
  {
   "cell_type": "code",
   "execution_count": null,
   "metadata": {},
   "outputs": [],
   "source": [
    "import os\n",
    "from dotenv import load_dotenv\n",
    "\n",
    "# .env 파일이 있는 현재 디렉토리에서 환경 변수 로드\n",
    "load_dotenv()\n",
    "\n",
    "# 환경 변수 사용 예시\n",
    "api_key = os.getenv(\"OPEN_API_KEY\")\n",
    "\n",
    "if api_key:\n",
    "    print(\"API 키:\", api_key)\n",
    "else:\n",
    "    print(\"API 키를 찾을 수 없습니다.\")"
   ]
  },
  {
   "cell_type": "code",
   "execution_count": null,
   "metadata": {},
   "outputs": [],
   "source": [
    "#prompt template | model | output parser"
   ]
  },
  {
   "cell_type": "code",
   "execution_count": 3,
   "metadata": {},
   "outputs": [
    {
     "data": {
      "text/plain": [
       "PromptTemplate(input_variables=['conutry'], template='{conutry}의 수도는 어디인가요?')"
      ]
     },
     "execution_count": 3,
     "metadata": {},
     "output_type": "execute_result"
    }
   ],
   "source": [
    "from langchain.prompts import PromptTemplate\n",
    "\n",
    "#template define\n",
    "\n",
    "template = \"{conutry}의 수도는 어디인가요?\"\n",
    "\n",
    "#from_template method makes PromptTemplate instance\n",
    "prompt_template = PromptTemplate.from_template(template)\n",
    "prompt_template"
   ]
  },
  {
   "cell_type": "code",
   "execution_count": 4,
   "metadata": {},
   "outputs": [
    {
     "data": {
      "text/plain": [
       "'대한민국의 수도는 어디인가요?'"
      ]
     },
     "execution_count": 4,
     "metadata": {},
     "output_type": "execute_result"
    }
   ],
   "source": [
    "# make prompt\n",
    "prompt = prompt_template.format(conutry=\"대한민국\")\n",
    "prompt"
   ]
  },
  {
   "cell_type": "code",
   "execution_count": 5,
   "metadata": {},
   "outputs": [
    {
     "data": {
      "text/plain": [
       "'미국의 수도는 어디인가요?'"
      ]
     },
     "execution_count": 5,
     "metadata": {},
     "output_type": "execute_result"
    }
   ],
   "source": [
    "# make prompt\n",
    "prompt = prompt_template.format(conutry=\"미국\")\n",
    "prompt"
   ]
  },
  {
   "cell_type": "markdown",
   "metadata": {},
   "source": [
    "Model(LLM) : ChatOpenAI\n",
    "\n",
    "temperature : 사용할 샘플링 온도는 0과 2 사이에서 선택합니다. 0.8과 같은 높은 값은 출력을 더 무작위하게 만들고, 0.2와 같은 낮은 값은 출력을 더 집중되고 결정론적으로 만듭니다.\n",
    "\n",
    "max_tokens : 채팅 완성에서 생성할 토큰의 최대 개수입니다.\n",
    "\n",
    "model_name: 적용 가능한 모델 리스트"
   ]
  },
  {
   "cell_type": "code",
   "execution_count": 19,
   "metadata": {},
   "outputs": [],
   "source": [
    "from langchain_openai import ChatOpenAI\n",
    "\n",
    "model = ChatOpenAI(\n",
    "    model = \"gpt-3.5-turbo\",\n",
    "    max_tokens = 2048,\n",
    "    temperature = 0.1,\n",
    "    openai_api_key = os.getenv(\"OPEN_API_KEY\")\n",
    ")"
   ]
  },
  {
   "cell_type": "code",
   "execution_count": 9,
   "metadata": {},
   "outputs": [],
   "source": [
    "from langchain_core.output_parsers import StrOutputParser\n",
    "\n",
    "output = StrOutputParser()"
   ]
  },
  {
   "cell_type": "markdown",
   "metadata": {},
   "source": [
    "Chain 생성 : LCEL(LangChain Expression Language)\n",
    "LCEL을 사용하여 다양한 구성 요소를 단일 체인으로 결합\n",
    "\n",
    "chain = prompt | model | output_parser\n",
    "| 기호는 unix 파이프 연산자와 유사하며, 서로 다른 구성 요소를 연결하고 한 구성 요소의 출력을 다음 구성 요소의 입력으로 전달\n",
    "\n",
    "이 체인에서 사용자 입력은 프롬프트 템플릿으로 전달되고, 그런 다음 프롬프트 템플릿 출력은 모델로 전달되며, 그 다음 모델 출력은 출력 파서로 전달"
   ]
  },
  {
   "cell_type": "code",
   "execution_count": 13,
   "metadata": {},
   "outputs": [
    {
     "data": {
      "text/plain": [
       "'대한민국의 수도는 서울입니다.'"
      ]
     },
     "execution_count": 13,
     "metadata": {},
     "output_type": "execute_result"
    }
   ],
   "source": [
    "# 주어진 나라에 대하여 수도를 묻는 프롬프트 템플릿을 생성합니다.\n",
    "prompt = PromptTemplate.from_template(\"{country}의 수도는 어디인가요?\")\n",
    "\n",
    "# OpenAI 챗모델을 초기화합니다.\n",
    "model = ChatOpenAI(\n",
    "    model = \"gpt-3.5-turbo\",\n",
    "    max_tokens=2048,\n",
    "    temperature=0.1,\n",
    "    openai_api_key = os.getenv(\"OPEN_API_KEY\")\n",
    ")\n",
    "\n",
    "# 문자열 출력 파서를 초기화합니다.\n",
    "output_parser = StrOutputParser()\n",
    "\n",
    "# 프롬프트, 모델, 출력 파서를 연결하여 처리 체인을 구성합니다.\n",
    "chain = prompt | model | output_parser\n",
    "\n",
    "# 완성된 Chain 을 이용하여 country 를 '대한민국'으로 설정하여 실행합니다.\n",
    "chain.invoke({\"country\": \"대한민국\"})"
   ]
  },
  {
   "cell_type": "code",
   "execution_count": 14,
   "metadata": {},
   "outputs": [
    {
     "data": {
      "text/plain": [
       "'미국의 수도는 워싱턴 D.C. (District of Columbia)입니다.'"
      ]
     },
     "execution_count": 14,
     "metadata": {},
     "output_type": "execute_result"
    }
   ],
   "source": [
    "chain.invoke({\"country\": \"미국\"})"
   ]
  },
  {
   "cell_type": "markdown",
   "metadata": {},
   "source": [
    "전체 파이프라인\n",
    "\n",
    "1. 원하는 주제에 대한 사용자 입력을 {\"topic\": \"양자역학\"}로 전달합니다.\n",
    "\n",
    "2. prompt 컴포넌트는 사용자 입력을 받아 topic을 사용하여 프롬프트를 구성한 후 PromptValue를 생성합니다.\n",
    "\n",
    "3. model 컴포넌트는 생성된 프롬프트를 가져와 OpenAI LLM 모델에 평가를 위해 전달합니다.\n",
    "\n",
    "* 모델에서 생성된 출력은 ChatMessage 객체입니다.\n",
    "* output_parser 컴포넌트는 ChatMessage를 받아 이를 Python 문자열로 변환하며, 이는 invoke 메서드에서 반환됩니다."
   ]
  },
  {
   "cell_type": "code",
   "execution_count": 16,
   "metadata": {},
   "outputs": [
    {
     "data": {
      "text/plain": [
       "AIMessage(content='양자역학은 물리학의 한 분야로서, 아주 작은 입자들인 원자, 분자, 전자 등의 동작과 상호작용을 설명하는 이론입니다. 양자역학은 전통적인 뉴턴 역학과는 다르게, 입자들이 정확한 위치와 운동량을 동시에 가지는 것이 아니라, 확률적인 성질을 가지고 있다고 설명합니다.\\n\\n양자역학에서는 입자들의 상태를 파동함수라는 수학적인 개념으로 표현합니다. 파동함수는 입자의 위치, 운동량, 에너지 등을 확률적으로 예측할 수 있게 해줍니다. 이 파동함수는 슈뢰딩거 방정식이라는 수학적인 식을 통해 구할 수 있습니다.\\n\\n양자역학은 많은 현상을 설명할 수 있으며, 예를 들어 원자의 구조, 분자의 형성, 물질의 전기전도성 등을 이해하는 데에 사용됩니다. 또한 양자역학은 양자 컴퓨터와 양자 통신 등의 첨단 기술 개발에도 중요한 역할을 합니다.\\n\\n하지만 양자역학은 우리가 일상에서 경험하는 대상들과는 다른 세계를 다루기 때문에, 직관적으로 이해하기 어려울 수 있습니다. 따라서 수학적인 지식과 추상적인 사고가 필요하며, 전문적인 학습과 연구가 필요한 분야입니다.')"
      ]
     },
     "execution_count": 16,
     "metadata": {},
     "output_type": "execute_result"
    }
   ],
   "source": [
    "# prompt 를 PromptTemplate 객체로 생성합니다.\n",
    "prompt = PromptTemplate.from_template(\"{topic} 에 대해 쉽게 설명해주세요.\")\n",
    "\n",
    "# input 딕셔너리에 주제를 'ice cream'으로 설정합니다.\n",
    "input = {\"topic\": \"양자역학\"}\n",
    "\n",
    "# prompt 객체의 invoke 메서드를 사용하여 input을 전달하고 대화형 프롬프트 값을 생성합니다.\n",
    "prompt.invoke(input)\n",
    "\n",
    "# prompt 객체와 model 객체를 파이프(|) 연산자로 연결하고 invoke 메서드를 사용하여 input을 전달합니다.\n",
    "# 이를 통해 AI 모델이 생성한 메시지를 반환합니다.\n",
    "(prompt | model).invoke(input)"
   ]
  },
  {
   "cell_type": "code",
   "execution_count": 17,
   "metadata": {},
   "outputs": [
    {
     "data": {
      "text/plain": [
       "\"양자역학은 물리학의 한 분야로서, 아주 작은 입자들인 원자, 분자, 전자 등의 동작과 상호작용을 설명하는 이론입니다. 양자역학은 전통적인 뉴턴 역학과는 다르게, 입자들이 정확한 위치와 운동량을 동시에 가지는 것이 아니라, 확률적인 성질을 가지고 있다고 설명합니다.\\n\\n양자역학에서는 입자의 상태를 파동함수라는 수학적인 개념으로 표현합니다. 파동함수는 입자의 위치, 운동량 등의 정보를 담고 있으며, 이를 통해 입자의 행동을 예측할 수 있습니다. 하지만 양자역학에서는 입자의 정확한 위치나 운동량을 동시에 알 수 없기 때문에, 우리는 입자의 상태를 확률적으로만 예측할 수 있습니다.\\n\\n양자역학은 또한 관측이라는 개념을 도입합니다. 입자의 상태를 관측할 때, 파동함수는 한 순간에 하나의 값을 가지게 됩니다. 이를 '측정'이라고 하며, 측정 결과에 따라 입자의 상태가 결정됩니다. 이러한 측정 결과는 확률적으로 결정되며, 입자의 상태를 정확하게 예측하는 것은 불가능합니다.\\n\\n양자역학은 매우 복잡한 수학적인 이론이지만, 이를 통해 원자나 분자의 동작, 물질의 특성, 입자의 상호작용 등을 설명할 수 있습니다. 양자역학은 현대 물리학의 기초로 여겨지며, 양자 컴퓨터, 양자 통신 등의 기술 발전에도 중요한 역할을 합니다.\""
      ]
     },
     "execution_count": 17,
     "metadata": {},
     "output_type": "execute_result"
    }
   ],
   "source": [
    "# parse_output 메서드를 사용하여 AI 모델이 생성한 메시지 문자열로 출력합니다.\n",
    "(prompt | model | output_parser).invoke(input)"
   ]
  }
 ],
 "metadata": {
  "kernelspec": {
   "display_name": "Python 3",
   "language": "python",
   "name": "python3"
  },
  "language_info": {
   "codemirror_mode": {
    "name": "ipython",
    "version": 3
   },
   "file_extension": ".py",
   "mimetype": "text/x-python",
   "name": "python",
   "nbconvert_exporter": "python",
   "pygments_lexer": "ipython3",
   "version": "3.11.7"
  }
 },
 "nbformat": 4,
 "nbformat_minor": 2
}
